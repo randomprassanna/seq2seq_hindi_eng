{
 "cells": [
  {
   "cell_type": "code",
   "execution_count": 1,
   "metadata": {},
   "outputs": [],
   "source": [
    "import pandas as pd\n",
    "import torch\n",
    "import torch.nn as nn\n",
    "import torch.optim as optim\n",
    "#from torchtext.datasets import Multi30k\n",
    "import torchtext\n",
    "import numpy as np\n",
    "import spacy\n",
    "import random\n",
    "from torch.utils.tensorboard import SummaryWriter"
   ]
  },
  {
   "cell_type": "code",
   "execution_count": 2,
   "metadata": {},
   "outputs": [],
   "source": [
    "df = pd.read_csv('/home/prassanna/M/DL/TEXT/seq2seq/dataset/hindi_english_parallel.csv')"
   ]
  },
  {
   "cell_type": "markdown",
   "metadata": {},
   "source": [
    "## use multi language spacy model"
   ]
  },
  {
   "cell_type": "markdown",
   "metadata": {},
   "source": [
    "### spacy tokenizer is better than inbuilt in torchtext"
   ]
  },
  {
   "cell_type": "code",
   "execution_count": 3,
   "metadata": {},
   "outputs": [],
   "source": [
    "spacy_hi = spacy.load(\"xx_sent_ud_sm\") #multilang model\n",
    "spacy_en = spacy.load(\"en_core_web_sm\") "
   ]
  },
  {
   "cell_type": "code",
   "execution_count": 4,
   "metadata": {},
   "outputs": [],
   "source": [
    "def tokenize_hi(text):\n",
    "    return [tok.text for tok in spacy_hi.tokenizer(text)]\n",
    "\n",
    "\n",
    "def tokenize_en(text):\n",
    "    return [tok.text for tok in spacy_en.tokenizer(text)]"
   ]
  },
  {
   "cell_type": "markdown",
   "metadata": {},
   "source": [
    "### with million vocabulary we will have one hot vectors of million size instaed we can use mebeddings for encoding and finding relationsjhip between words"
   ]
  },
  {
   "cell_type": "markdown",
   "metadata": {},
   "source": [
    "### so without one hot, we will index the tokens in vocabulary and vector embedding we be created"
   ]
  },
  {
   "cell_type": "code",
   "execution_count": 5,
   "metadata": {},
   "outputs": [],
   "source": [
    "sample = tokenize_hi('खाद्य और जल सुरक्षा; पर्यावरण की दृष्टि से जल जल पर्यावरण वहन अपने अनुप्रयोग को पहुंचनीयता व्यायाम का लाभ दें')\n",
    "\n",
    "from torchtext.vocab import vocab\n",
    "from collections import Counter, OrderedDict\n",
    "\n",
    "counter = Counter(sample)\n",
    "sorted_by_freq_tuples = sorted(counter.items(), key=lambda x: x[1], reverse=True) #text as a key,index as a value\n",
    "ordered_dict = OrderedDict(sorted_by_freq_tuples)\n",
    "voc = vocab(ordered_dict, min_freq=1)\n"
   ]
  },
  {
   "cell_type": "code",
   "execution_count": 6,
   "metadata": {},
   "outputs": [
    {
     "data": {
      "text/plain": [
       "4"
      ]
     },
     "execution_count": 6,
     "metadata": {},
     "output_type": "execute_result"
    }
   ],
   "source": [
    "voc['सुरक्षा']"
   ]
  },
  {
   "cell_type": "code",
   "execution_count": 7,
   "metadata": {},
   "outputs": [
    {
     "name": "stdout",
     "output_type": "stream",
     "text": [
      "2\n",
      "3\n",
      "0\n",
      "4\n",
      "5\n",
      "1\n",
      "6\n",
      "7\n",
      "8\n",
      "0\n",
      "0\n",
      "1\n",
      "9\n",
      "10\n",
      "11\n",
      "12\n",
      "13\n",
      "14\n",
      "15\n",
      "16\n",
      "17\n"
     ]
    }
   ],
   "source": [
    "for i in sample:\n",
    "    print(voc[i])"
   ]
  },
  {
   "cell_type": "markdown",
   "metadata": {},
   "source": [
    "### convert these vocab index into tensors"
   ]
  },
  {
   "cell_type": "markdown",
   "metadata": {},
   "source": [
    "### so do it inside embedding object"
   ]
  },
  {
   "cell_type": "code",
   "execution_count": 8,
   "metadata": {},
   "outputs": [],
   "source": [
    "input_size = len(voc)\n",
    "embedding_size = 30\n",
    "embedding = nn.Embedding(input_size, embedding_size)"
   ]
  },
  {
   "cell_type": "code",
   "execution_count": 9,
   "metadata": {},
   "outputs": [
    {
     "name": "stdout",
     "output_type": "stream",
     "text": [
      "पर्यावरण\n",
      "<class 'torch.Tensor'>\n",
      "tensor([-0.8865,  0.6406,  1.2427, -0.2640,  0.1283, -0.6640,  0.0627,  0.1165,\n",
      "         0.4013,  1.3648,  1.1717, -0.8545,  0.5106,  0.6137, -1.9844, -1.6924,\n",
      "         0.2055,  0.6504, -0.5373,  0.6741, -1.4867,  1.3909,  0.5437, -0.3545,\n",
      "        -0.0921,  2.6490,  0.7317, -1.0307,  1.7192,  0.7988],\n",
      "       grad_fn=<EmbeddingBackward0>)\n",
      "torch.Size([30])\n"
     ]
    }
   ],
   "source": [
    "em = embedding(torch.tensor(voc[sample[5]]))\n",
    "print(sample[5])\n",
    "print(type(em))\n",
    "print(em)\n",
    "print(em.shape)\n"
   ]
  },
  {
   "cell_type": "markdown",
   "metadata": {},
   "source": [
    "### We can always use ptrtrained embeddings such as FASTTEXT, GLOVE etc"
   ]
  },
  {
   "cell_type": "markdown",
   "metadata": {},
   "source": [
    "we will have 3d tensor -> (batch_size, sequence_size, embeding size)\n",
    "we will use embedding_size = 300\n",
    "\n",
    "so (batchsize, padded_sequence, 300)"
   ]
  },
  {
   "cell_type": "code",
   "execution_count": 5,
   "metadata": {},
   "outputs": [
    {
     "data": {
      "text/html": [
       "<div>\n",
       "<style scoped>\n",
       "    .dataframe tbody tr th:only-of-type {\n",
       "        vertical-align: middle;\n",
       "    }\n",
       "\n",
       "    .dataframe tbody tr th {\n",
       "        vertical-align: top;\n",
       "    }\n",
       "\n",
       "    .dataframe thead th {\n",
       "        text-align: right;\n",
       "    }\n",
       "</style>\n",
       "<table border=\"1\" class=\"dataframe\">\n",
       "  <thead>\n",
       "    <tr style=\"text-align: right;\">\n",
       "      <th></th>\n",
       "      <th>hindi</th>\n",
       "      <th>english</th>\n",
       "    </tr>\n",
       "  </thead>\n",
       "  <tbody>\n",
       "    <tr>\n",
       "      <th>0</th>\n",
       "      <td>अपने अनुप्रयोग को पहुंचनीयता व्यायाम का लाभ दें</td>\n",
       "      <td>Give your application an accessibility workout</td>\n",
       "    </tr>\n",
       "    <tr>\n",
       "      <th>1</th>\n",
       "      <td>एक्सेर्साइसर पहुंचनीयता अन्वेषक</td>\n",
       "      <td>Accerciser Accessibility Explorer</td>\n",
       "    </tr>\n",
       "    <tr>\n",
       "      <th>2</th>\n",
       "      <td>निचले पटल के लिए डिफोल्ट प्लग-इन खाका</td>\n",
       "      <td>The default plugin layout for the bottom panel</td>\n",
       "    </tr>\n",
       "    <tr>\n",
       "      <th>3</th>\n",
       "      <td>ऊपरी पटल के लिए डिफोल्ट प्लग-इन खाका</td>\n",
       "      <td>The default plugin layout for the top panel</td>\n",
       "    </tr>\n",
       "    <tr>\n",
       "      <th>4</th>\n",
       "      <td>उन प्लग-इनों की सूची जिन्हें डिफोल्ट रूप से नि...</td>\n",
       "      <td>A list of plugins that are disabled by default</td>\n",
       "    </tr>\n",
       "    <tr>\n",
       "      <th>...</th>\n",
       "      <td>...</td>\n",
       "      <td>...</td>\n",
       "    </tr>\n",
       "    <tr>\n",
       "      <th>1561836</th>\n",
       "      <td>स्पष्टीकरण.–जहां इस उपधारा के अधीन हानि और लाभ...</td>\n",
       "      <td>स्पष्टीकरण.–जहां इस उपधारा के अधीन हानि और लाभ...</td>\n",
       "    </tr>\n",
       "    <tr>\n",
       "      <th>1561837</th>\n",
       "      <td>मैंने गौर किया है कि यह न केवल अपने महत्त्वपूर...</td>\n",
       "      <td>है। I note that this is a landmark meeting – n...</td>\n",
       "    </tr>\n",
       "    <tr>\n",
       "      <th>1561838</th>\n",
       "      <td>उन्होंने मेरे समक्ष जो प्रदर्शन किया उसमें से ...</td>\n",
       "      <td>है। In the presentations that they made before...</td>\n",
       "    </tr>\n",
       "    <tr>\n",
       "      <th>1561839</th>\n",
       "      <td>खाद्य और जल सुरक्षा; पर्यावरण की दृष्टि से वहन...</td>\n",
       "      <td>्त है। Issues such as food and water security;...</td>\n",
       "    </tr>\n",
       "    <tr>\n",
       "      <th>1561840</th>\n",
       "      <td>NaN</td>\n",
       "      <td>NaN</td>\n",
       "    </tr>\n",
       "  </tbody>\n",
       "</table>\n",
       "<p>1561841 rows × 2 columns</p>\n",
       "</div>"
      ],
      "text/plain": [
       "                                                     hindi  \\\n",
       "0          अपने अनुप्रयोग को पहुंचनीयता व्यायाम का लाभ दें   \n",
       "1                          एक्सेर्साइसर पहुंचनीयता अन्वेषक   \n",
       "2                    निचले पटल के लिए डिफोल्ट प्लग-इन खाका   \n",
       "3                     ऊपरी पटल के लिए डिफोल्ट प्लग-इन खाका   \n",
       "4        उन प्लग-इनों की सूची जिन्हें डिफोल्ट रूप से नि...   \n",
       "...                                                    ...   \n",
       "1561836  स्पष्टीकरण.–जहां इस उपधारा के अधीन हानि और लाभ...   \n",
       "1561837  मैंने गौर किया है कि यह न केवल अपने महत्त्वपूर...   \n",
       "1561838  उन्होंने मेरे समक्ष जो प्रदर्शन किया उसमें से ...   \n",
       "1561839  खाद्य और जल सुरक्षा; पर्यावरण की दृष्टि से वहन...   \n",
       "1561840                                                NaN   \n",
       "\n",
       "                                                   english  \n",
       "0           Give your application an accessibility workout  \n",
       "1                        Accerciser Accessibility Explorer  \n",
       "2           The default plugin layout for the bottom panel  \n",
       "3              The default plugin layout for the top panel  \n",
       "4           A list of plugins that are disabled by default  \n",
       "...                                                    ...  \n",
       "1561836  स्पष्टीकरण.–जहां इस उपधारा के अधीन हानि और लाभ...  \n",
       "1561837  है। I note that this is a landmark meeting – n...  \n",
       "1561838  है। In the presentations that they made before...  \n",
       "1561839  ्त है। Issues such as food and water security;...  \n",
       "1561840                                                NaN  \n",
       "\n",
       "[1561841 rows x 2 columns]"
      ]
     },
     "execution_count": 5,
     "metadata": {},
     "output_type": "execute_result"
    }
   ],
   "source": [
    "df"
   ]
  },
  {
   "cell_type": "code",
   "execution_count": 6,
   "metadata": {},
   "outputs": [],
   "source": [
    "sent = df.iloc[76775, 0]"
   ]
  },
  {
   "cell_type": "markdown",
   "metadata": {},
   "source": [
    "for rnn we will use sequence, batch, embed\n",
    "so  (s,b,e)"
   ]
  },
  {
   "cell_type": "code",
   "execution_count": 7,
   "metadata": {},
   "outputs": [
    {
     "data": {
      "text/html": [
       "<div>\n",
       "<style scoped>\n",
       "    .dataframe tbody tr th:only-of-type {\n",
       "        vertical-align: middle;\n",
       "    }\n",
       "\n",
       "    .dataframe tbody tr th {\n",
       "        vertical-align: top;\n",
       "    }\n",
       "\n",
       "    .dataframe thead th {\n",
       "        text-align: right;\n",
       "    }\n",
       "</style>\n",
       "<table border=\"1\" class=\"dataframe\">\n",
       "  <thead>\n",
       "    <tr style=\"text-align: right;\">\n",
       "      <th></th>\n",
       "      <th>hindi</th>\n",
       "      <th>english</th>\n",
       "    </tr>\n",
       "  </thead>\n",
       "  <tbody>\n",
       "    <tr>\n",
       "      <th>1000</th>\n",
       "      <td>अवधि को हाइलाइट रकें</td>\n",
       "      <td>Highlight duration</td>\n",
       "    </tr>\n",
       "    <tr>\n",
       "      <th>1001</th>\n",
       "      <td>पहुंचनीय आसंधि नोड को चुनते समय हाइलाइट बक्से ...</td>\n",
       "      <td>The duration of the highlight box when selecti...</td>\n",
       "    </tr>\n",
       "    <tr>\n",
       "      <th>1002</th>\n",
       "      <td>भराई के रंग को हाइलाइट करें</td>\n",
       "      <td>Highlight fill color</td>\n",
       "    </tr>\n",
       "    <tr>\n",
       "      <th>1003</th>\n",
       "      <td>हाइलाइट किया गया भराई का रंग और पारदर्शिता।</td>\n",
       "      <td>The color and opacity of the highlight fill.</td>\n",
       "    </tr>\n",
       "    <tr>\n",
       "      <th>1004</th>\n",
       "      <td>सीमांत (बोर्डर) के रंग को हाइलाइट करें</td>\n",
       "      <td>Highlight border color</td>\n",
       "    </tr>\n",
       "  </tbody>\n",
       "</table>\n",
       "</div>"
      ],
      "text/plain": [
       "                                                  hindi  \\\n",
       "1000                               अवधि को हाइलाइट रकें   \n",
       "1001  पहुंचनीय आसंधि नोड को चुनते समय हाइलाइट बक्से ...   \n",
       "1002                        भराई के रंग को हाइलाइट करें   \n",
       "1003       हाइलाइट किया गया भराई का रंग और पारदर्शिता।    \n",
       "1004             सीमांत (बोर्डर) के रंग को हाइलाइट करें   \n",
       "\n",
       "                                                english  \n",
       "1000                                 Highlight duration  \n",
       "1001  The duration of the highlight box when selecti...  \n",
       "1002                               Highlight fill color  \n",
       "1003       The color and opacity of the highlight fill.  \n",
       "1004                             Highlight border color  "
      ]
     },
     "execution_count": 7,
     "metadata": {},
     "output_type": "execute_result"
    }
   ],
   "source": [
    "dataset = df.iloc[1000:1005,]\n",
    "dataset"
   ]
  },
  {
   "cell_type": "markdown",
   "metadata": {},
   "source": [
    "#### 1 batch = 5 sentence"
   ]
  },
  {
   "cell_type": "code",
   "execution_count": 8,
   "metadata": {},
   "outputs": [
    {
     "data": {
      "text/plain": [
       "hindi      अवधि को हाइलाइट रकें\n",
       "english      Highlight duration\n",
       "Name: 1000, dtype: object"
      ]
     },
     "execution_count": 8,
     "metadata": {},
     "output_type": "execute_result"
    }
   ],
   "source": [
    "dataset.iloc[0,]"
   ]
  },
  {
   "cell_type": "code",
   "execution_count": 9,
   "metadata": {},
   "outputs": [
    {
     "data": {
      "text/plain": [
       "'Highlight duration'"
      ]
     },
     "execution_count": 9,
     "metadata": {},
     "output_type": "execute_result"
    }
   ],
   "source": [
    "dataset.values[0][1]"
   ]
  },
  {
   "cell_type": "code",
   "execution_count": 10,
   "metadata": {},
   "outputs": [
    {
     "data": {
      "text/plain": [
       "array(['अवधि को हाइलाइट रकें',\n",
       "       'पहुंचनीय आसंधि नोड को चुनते समय हाइलाइट बक्से की अवधि. ',\n",
       "       'भराई के रंग को हाइलाइट करें',\n",
       "       'हाइलाइट किया गया भराई का रंग और पारदर्शिता। ',\n",
       "       'सीमांत (बोर्डर) के रंग को हाइलाइट करें'], dtype=object)"
      ]
     },
     "execution_count": 10,
     "metadata": {},
     "output_type": "execute_result"
    }
   ],
   "source": [
    "hindi = dataset.iloc[:,0].values\n",
    "eng = dataset.iloc[:,1].values\n",
    "hindi"
   ]
  },
  {
   "cell_type": "code",
   "execution_count": 11,
   "metadata": {},
   "outputs": [
    {
     "data": {
      "text/plain": [
       "numpy.ndarray"
      ]
     },
     "execution_count": 11,
     "metadata": {},
     "output_type": "execute_result"
    }
   ],
   "source": [
    "type(hindi)"
   ]
  },
  {
   "cell_type": "code",
   "execution_count": 12,
   "metadata": {},
   "outputs": [
    {
     "data": {
      "text/plain": [
       "[['अवधि', 'को', 'हाइलाइट', 'रकें'],\n",
       " ['पहुंचनीय',\n",
       "  'आसंधि',\n",
       "  'नोड',\n",
       "  'को',\n",
       "  'चुनते',\n",
       "  'समय',\n",
       "  'हाइलाइट',\n",
       "  'बक्से',\n",
       "  'की',\n",
       "  'अवधि',\n",
       "  '.'],\n",
       " ['भराई', 'के', 'रंग', 'को', 'हाइलाइट', 'करें'],\n",
       " ['हाइलाइट', 'किया', 'गया', 'भराई', 'का', 'रंग', 'और', 'पारदर्शिता', '।'],\n",
       " ['सीमांत', '(', 'बोर्डर', ')', 'के', 'रंग', 'को', 'हाइलाइट', 'करें']]"
      ]
     },
     "execution_count": 12,
     "metadata": {},
     "output_type": "execute_result"
    }
   ],
   "source": [
    "tok_hindi =[(tokenize_hi(sent)) for sent in hindi]\n",
    "tok_hindi\n"
   ]
  },
  {
   "cell_type": "code",
   "execution_count": 13,
   "metadata": {},
   "outputs": [
    {
     "data": {
      "text/plain": [
       "5"
      ]
     },
     "execution_count": 13,
     "metadata": {},
     "output_type": "execute_result"
    }
   ],
   "source": [
    "len(tok_hindi)"
   ]
  },
  {
   "cell_type": "code",
   "execution_count": 14,
   "metadata": {},
   "outputs": [],
   "source": [
    "from torchtext.vocab import vocab\n",
    "from collections import Counter, OrderedDict\n",
    "\n",
    "def get_counter(data):\n",
    "    counter = Counter()\n",
    "    for i in range(len(data)):\n",
    "        c = Counter(data[i]) \n",
    "        counter += c\n",
    "    return counter\n"
   ]
  },
  {
   "cell_type": "code",
   "execution_count": 15,
   "metadata": {},
   "outputs": [],
   "source": [
    "def get_counter2(data):\n",
    "    counter = Counter()\n",
    "    for i in range(len(data)):\n",
    "        counter.update(data[i]) \n",
    "    return counter"
   ]
  },
  {
   "cell_type": "code",
   "execution_count": 16,
   "metadata": {},
   "outputs": [
    {
     "name": "stdout",
     "output_type": "stream",
     "text": [
      "Counter({'हाइलाइट': 5, 'को': 4, 'रंग': 3, 'अवधि': 2, 'भराई': 2, 'के': 2, 'करें': 2, 'रकें': 1, 'पहुंचनीय': 1, 'आसंधि': 1, 'नोड': 1, 'चुनते': 1, 'समय': 1, 'बक्से': 1, 'की': 1, '.': 1, 'किया': 1, 'गया': 1, 'का': 1, 'और': 1, 'पारदर्शिता': 1, '।': 1, 'सीमांत': 1, '(': 1, 'बोर्डर': 1, ')': 1})\n"
     ]
    }
   ],
   "source": [
    "counter2 = get_counter(tok_hindi)\n",
    "print(counter2)"
   ]
  },
  {
   "cell_type": "code",
   "execution_count": 17,
   "metadata": {},
   "outputs": [
    {
     "name": "stdout",
     "output_type": "stream",
     "text": [
      "Counter({'हाइलाइट': 5, 'को': 4, 'रंग': 3, 'अवधि': 2, 'भराई': 2, 'के': 2, 'करें': 2, 'रकें': 1, 'पहुंचनीय': 1, 'आसंधि': 1, 'नोड': 1, 'चुनते': 1, 'समय': 1, 'बक्से': 1, 'की': 1, '.': 1, 'किया': 1, 'गया': 1, 'का': 1, 'और': 1, 'पारदर्शिता': 1, '।': 1, 'सीमांत': 1, '(': 1, 'बोर्डर': 1, ')': 1})\n"
     ]
    }
   ],
   "source": [
    "counter = get_counter(tok_hindi)\n",
    "print(counter)"
   ]
  },
  {
   "cell_type": "code",
   "execution_count": 18,
   "metadata": {},
   "outputs": [
    {
     "data": {
      "text/plain": [
       "dict_items([('अवधि', 2), ('को', 4), ('हाइलाइट', 5), ('रकें', 1), ('पहुंचनीय', 1), ('आसंधि', 1), ('नोड', 1), ('चुनते', 1), ('समय', 1), ('बक्से', 1), ('की', 1), ('.', 1), ('भराई', 2), ('के', 2), ('रंग', 3), ('करें', 2), ('किया', 1), ('गया', 1), ('का', 1), ('और', 1), ('पारदर्शिता', 1), ('।', 1), ('सीमांत', 1), ('(', 1), ('बोर्डर', 1), (')', 1)])"
      ]
     },
     "execution_count": 18,
     "metadata": {},
     "output_type": "execute_result"
    }
   ],
   "source": [
    "counter.items()"
   ]
  },
  {
   "cell_type": "code",
   "execution_count": 19,
   "metadata": {},
   "outputs": [
    {
     "name": "stdout",
     "output_type": "stream",
     "text": [
      "[('हाइलाइट', 5), ('को', 4), ('रंग', 3), ('अवधि', 2), ('भराई', 2), ('के', 2), ('करें', 2), ('रकें', 1), ('पहुंचनीय', 1), ('आसंधि', 1), ('नोड', 1), ('चुनते', 1), ('समय', 1), ('बक्से', 1), ('की', 1), ('.', 1), ('किया', 1), ('गया', 1), ('का', 1), ('और', 1), ('पारदर्शिता', 1), ('।', 1), ('सीमांत', 1), ('(', 1), ('बोर्डर', 1), (')', 1)]\n"
     ]
    }
   ],
   "source": [
    "sorted_by_freq_tuples = sorted(counter.items(), key=lambda x: x[1], reverse=True)\n",
    "print(sorted_by_freq_tuples)"
   ]
  },
  {
   "cell_type": "code",
   "execution_count": 20,
   "metadata": {},
   "outputs": [
    {
     "name": "stdout",
     "output_type": "stream",
     "text": [
      "OrderedDict([('हाइलाइट', 5), ('को', 4), ('रंग', 3), ('अवधि', 2), ('भराई', 2), ('के', 2), ('करें', 2), ('रकें', 1), ('पहुंचनीय', 1), ('आसंधि', 1), ('नोड', 1), ('चुनते', 1), ('समय', 1), ('बक्से', 1), ('की', 1), ('.', 1), ('किया', 1), ('गया', 1), ('का', 1), ('और', 1), ('पारदर्शिता', 1), ('।', 1), ('सीमांत', 1), ('(', 1), ('बोर्डर', 1), (')', 1)])\n"
     ]
    }
   ],
   "source": [
    "ordered_dict = OrderedDict(sorted_by_freq_tuples)\n",
    "print(ordered_dict)"
   ]
  },
  {
   "cell_type": "code",
   "execution_count": 21,
   "metadata": {},
   "outputs": [
    {
     "data": {
      "text/plain": [
       "2"
      ]
     },
     "execution_count": 21,
     "metadata": {},
     "output_type": "execute_result"
    }
   ],
   "source": [
    "v = vocab(ordered_dict, min_freq=1)\n",
    "v['रंग']\n"
   ]
  },
  {
   "cell_type": "code",
   "execution_count": 22,
   "metadata": {},
   "outputs": [],
   "source": [
    "def build_vocab(data):\n",
    "    counter = get_counter(data)\n",
    "    sorted_by_freq_tuples = sorted(counter.items(), key=lambda x: x[1], reverse=True) \n",
    "    #text as a key,index as a value\n",
    "    ordered_dict = OrderedDict(sorted_by_freq_tuples)\n",
    "    voc = vocab(ordered_dict, min_freq=1)\n",
    "    return voc"
   ]
  },
  {
   "cell_type": "code",
   "execution_count": 23,
   "metadata": {},
   "outputs": [
    {
     "name": "stdout",
     "output_type": "stream",
     "text": [
      "26\n",
      "13\n",
      "<class 'int'>\n"
     ]
    }
   ],
   "source": [
    "voc = build_vocab(tok_hindi)\n",
    "print(len(voc))\n",
    "print(voc['बक्से'])\n",
    "print(type(voc['चुनते']))"
   ]
  },
  {
   "cell_type": "markdown",
   "metadata": {},
   "source": [
    "# --------------------------------------------------------------------"
   ]
  },
  {
   "cell_type": "code",
   "execution_count": 24,
   "metadata": {},
   "outputs": [],
   "source": [
    "def get_sent_indexarray(sent):\n",
    "    arr = [voc([word]) for word in sent]\n",
    "    return arr, len(arr)"
   ]
  },
  {
   "cell_type": "code",
   "execution_count": 25,
   "metadata": {},
   "outputs": [],
   "source": [
    "def get_seq_len(data):\n",
    "    tok_data = [get_sent_indexarray(tokenize_hi(sent)) for sent in data]\n",
    "    seq_vec = [i[0] for i in tok_data]\n",
    "    seq_len = torch.LongTensor([i[1] for i in tok_data])\n",
    "    return seq_vec, seq_len"
   ]
  },
  {
   "cell_type": "code",
   "execution_count": 26,
   "metadata": {},
   "outputs": [],
   "source": [
    "seq_vec, seq_len = get_seq_len(hindi)"
   ]
  },
  {
   "cell_type": "code",
   "execution_count": 27,
   "metadata": {},
   "outputs": [
    {
     "data": {
      "text/plain": [
       "5"
      ]
     },
     "execution_count": 27,
     "metadata": {},
     "output_type": "execute_result"
    }
   ],
   "source": [
    "len(seq_vec)"
   ]
  },
  {
   "cell_type": "code",
   "execution_count": 43,
   "metadata": {},
   "outputs": [
    {
     "data": {
      "text/plain": [
       "[[[3], [1], [0], [7]],\n",
       " [[8], [9], [10], [1], [11], [12], [0], [13], [14], [3], [15]],\n",
       " [[4], [5], [2], [1], [0], [6]],\n",
       " [[0], [16], [17], [4], [18], [2], [19], [20], [21]],\n",
       " [[22], [23], [24], [25], [5], [2], [1], [0], [6]]]"
      ]
     },
     "execution_count": 43,
     "metadata": {},
     "output_type": "execute_result"
    }
   ],
   "source": [
    "seq_vec"
   ]
  },
  {
   "cell_type": "code",
   "execution_count": 44,
   "metadata": {},
   "outputs": [
    {
     "data": {
      "text/plain": [
       "tensor([ 4, 11,  6,  9,  9])"
      ]
     },
     "execution_count": 44,
     "metadata": {},
     "output_type": "execute_result"
    }
   ],
   "source": [
    "seq_len"
   ]
  },
  {
   "cell_type": "code",
   "execution_count": 45,
   "metadata": {},
   "outputs": [
    {
     "data": {
      "text/plain": [
       "[[3], [1], [0], [7]]"
      ]
     },
     "execution_count": 45,
     "metadata": {},
     "output_type": "execute_result"
    }
   ],
   "source": [
    "seq_vec[0]"
   ]
  },
  {
   "cell_type": "code",
   "execution_count": 98,
   "metadata": {},
   "outputs": [
    {
     "data": {
      "text/plain": [
       "tensor([3, 1, 0, 7])"
      ]
     },
     "execution_count": 98,
     "metadata": {},
     "output_type": "execute_result"
    }
   ],
   "source": [
    "torch.LongTensor(seq_vec[0]).squeeze()"
   ]
  },
  {
   "cell_type": "code",
   "execution_count": null,
   "metadata": {},
   "outputs": [],
   "source": []
  },
  {
   "cell_type": "markdown",
   "metadata": {},
   "source": [
    "# ------------------------------------------------------------"
   ]
  },
  {
   "cell_type": "code",
   "execution_count": 53,
   "metadata": {},
   "outputs": [
    {
     "data": {
      "text/plain": [
       "tensor([[0, 0, 0, 0, 0, 0, 0, 0, 0, 0, 0],\n",
       "        [0, 0, 0, 0, 0, 0, 0, 0, 0, 0, 0],\n",
       "        [0, 0, 0, 0, 0, 0, 0, 0, 0, 0, 0],\n",
       "        [0, 0, 0, 0, 0, 0, 0, 0, 0, 0, 0],\n",
       "        [0, 0, 0, 0, 0, 0, 0, 0, 0, 0, 0]])"
      ]
     },
     "execution_count": 53,
     "metadata": {},
     "output_type": "execute_result"
    }
   ],
   "source": [
    "seq_tensor = torch.zeros((len(seq_vec), seq_len.max())).long()\n",
    "seq_tensor"
   ]
  },
  {
   "cell_type": "code",
   "execution_count": 73,
   "metadata": {},
   "outputs": [
    {
     "data": {
      "text/plain": [
       "4"
      ]
     },
     "execution_count": 73,
     "metadata": {},
     "output_type": "execute_result"
    }
   ],
   "source": [
    "int(seq_len[0].numpy())"
   ]
  },
  {
   "cell_type": "code",
   "execution_count": 104,
   "metadata": {},
   "outputs": [
    {
     "data": {
      "text/plain": [
       "tensor([0, 0, 0, 0])"
      ]
     },
     "execution_count": 104,
     "metadata": {},
     "output_type": "execute_result"
    }
   ],
   "source": [
    "seq_tensor[0,:4]"
   ]
  },
  {
   "cell_type": "code",
   "execution_count": 65,
   "metadata": {},
   "outputs": [
    {
     "data": {
      "text/plain": [
       "torch.Size([1, 4])"
      ]
     },
     "execution_count": 65,
     "metadata": {},
     "output_type": "execute_result"
    }
   ],
   "source": [
    "torch.tensor([[0,0,0,0]]).shape"
   ]
  },
  {
   "cell_type": "code",
   "execution_count": 30,
   "metadata": {},
   "outputs": [],
   "source": [
    "def pad_sequences(seq_vec, seq_len):\n",
    "    seq_tensor = torch.zeros((len(seq_vec), seq_len.max())).long()\n",
    "    for idx, (seq_vec, seq_len) in enumerate(zip(seq_vec, seq_len)):\n",
    "        seq_tensor[idx,:seq_len] = torch.LongTensor(seq_vec[idx])\n",
    "    return seq_tensor"
   ]
  },
  {
   "cell_type": "code",
   "execution_count": 31,
   "metadata": {},
   "outputs": [
    {
     "data": {
      "text/plain": [
       "tensor([[3, 3, 3, 3, 0, 0, 0, 0, 0, 0, 0],\n",
       "        [9, 9, 9, 9, 9, 9, 9, 9, 9, 9, 9],\n",
       "        [2, 2, 2, 2, 2, 2, 0, 0, 0, 0, 0],\n",
       "        [4, 4, 4, 4, 4, 4, 4, 4, 4, 0, 0],\n",
       "        [5, 5, 5, 5, 5, 5, 5, 5, 5, 0, 0]])"
      ]
     },
     "execution_count": 31,
     "metadata": {},
     "output_type": "execute_result"
    }
   ],
   "source": [
    "pad_sequences(seq_vec, seq_len)"
   ]
  },
  {
   "cell_type": "code",
   "execution_count": 102,
   "metadata": {},
   "outputs": [],
   "source": [
    "def make_variables_hindi(data):\n",
    "    seq_vec, seq_len = get_seq_len(data)\n",
    "    return pad_sequences(seq_vec, seq_len)"
   ]
  },
  {
   "cell_type": "code",
   "execution_count": 103,
   "metadata": {},
   "outputs": [
    {
     "data": {
      "text/plain": [
       "tensor([[ 3,  1,  0,  7,  0,  0,  0,  0,  0,  0,  0],\n",
       "        [ 8,  9, 10,  1, 11, 12,  0, 13, 14,  3, 15],\n",
       "        [ 4,  5,  2,  1,  0,  6,  0,  0,  0,  0,  0],\n",
       "        [ 0, 16, 17,  4, 18,  2, 19, 20, 21,  0,  0],\n",
       "        [22, 23, 24, 25,  5,  2,  1,  0,  6,  0,  0]])"
      ]
     },
     "execution_count": 103,
     "metadata": {},
     "output_type": "execute_result"
    }
   ],
   "source": [
    "make_variables_hindi(hindi)"
   ]
  },
  {
   "cell_type": "code",
   "execution_count": 106,
   "metadata": {},
   "outputs": [
    {
     "data": {
      "text/plain": [
       "torch.Size([5, 11])"
      ]
     },
     "execution_count": 106,
     "metadata": {},
     "output_type": "execute_result"
    }
   ],
   "source": [
    "variable = make_variables_hindi(hindi)\n",
    "variable.shape"
   ]
  },
  {
   "cell_type": "code",
   "execution_count": 108,
   "metadata": {},
   "outputs": [
    {
     "data": {
      "text/plain": [
       "torch.int64"
      ]
     },
     "execution_count": 108,
     "metadata": {},
     "output_type": "execute_result"
    }
   ],
   "source": [
    "variable.dtype"
   ]
  },
  {
   "cell_type": "markdown",
   "metadata": {},
   "source": [
    "## 5 = batch size\n",
    "## 11 = sequence size"
   ]
  },
  {
   "cell_type": "markdown",
   "metadata": {},
   "source": [
    "### after embedding we will get (5,11,300)"
   ]
  },
  {
   "cell_type": "code",
   "execution_count": null,
   "metadata": {},
   "outputs": [],
   "source": []
  },
  {
   "cell_type": "code",
   "execution_count": null,
   "metadata": {},
   "outputs": [],
   "source": [
    "def pad_sequences(vectorized_seqs, seq_lengths, countries):\n",
    "    seq_tensor = torch.zeros((len(vectorized_seqs), seq_lengths.max())).long()\n",
    "    for idx, (seq, seq_len) in enumerate(zip(vectorized_seqs, seq_lengths)):\n",
    "        seq_tensor[idx, :seq_len] = torch.LongTensor(seq)\n",
    "\n",
    "    # Sort tensors by their length\n",
    "    seq_lengths, perm_idx = seq_lengths.sort(0, descending=True)\n",
    "    seq_tensor = seq_tensor[perm_idx]\n",
    "\n",
    "    # Also sort the target (countries) in the same order\n",
    "    target = countries2tensor(countries)\n",
    "    if len(countries):\n",
    "        target = target[perm_idx]\n",
    "\n",
    "    # Return variables\n",
    "    # DataParallel requires everything to be a Variable\n",
    "    return create_variable(seq_tensor), \\\n",
    "        create_variable(seq_lengths), \\\n",
    "        create_variable(target)"
   ]
  }
 ],
 "metadata": {
  "kernelspec": {
   "display_name": "Python 3 (ipykernel)",
   "language": "python",
   "name": "python3"
  },
  "language_info": {
   "codemirror_mode": {
    "name": "ipython",
    "version": 3
   },
   "file_extension": ".py",
   "mimetype": "text/x-python",
   "name": "python",
   "nbconvert_exporter": "python",
   "pygments_lexer": "ipython3",
   "version": "3.8.10"
  },
  "toc": {
   "base_numbering": 1,
   "nav_menu": {},
   "number_sections": true,
   "sideBar": true,
   "skip_h1_title": false,
   "title_cell": "Table of Contents",
   "title_sidebar": "Contents",
   "toc_cell": false,
   "toc_position": {},
   "toc_section_display": true,
   "toc_window_display": false
  }
 },
 "nbformat": 4,
 "nbformat_minor": 4
}
