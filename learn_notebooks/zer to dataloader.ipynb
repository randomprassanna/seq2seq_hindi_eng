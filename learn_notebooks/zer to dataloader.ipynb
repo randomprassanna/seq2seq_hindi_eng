{
 "cells": [
  {
   "cell_type": "code",
   "execution_count": 1,
   "id": "6510ffc1",
   "metadata": {},
   "outputs": [],
   "source": [
    "import numpy as np\n",
    "import pandas as pd\n",
    "import random\n",
    "from sklearn.model_selection import train_test_split\n",
    "import spacy\n",
    "import torch\n",
    "import torch.nn as nn\n",
    "import torch.optim as optim\n",
    "import torchtext\n",
    "from torch.utils.tensorboard import SummaryWriter\n",
    "\n",
    "from torchtext.vocab import vocab\n",
    "from collections import Counter, OrderedDict\n",
    "from torchtext.vocab import Vocab\n",
    "from torch.utils.data import DataLoader"
   ]
  },
  {
   "cell_type": "code",
   "execution_count": 2,
   "id": "705c8627",
   "metadata": {},
   "outputs": [],
   "source": [
    "small_data = pd.read_csv('/home/prassanna/M/DL/TEXT/seq2seq_learn/small_data.csv')\n",
    "train, testtemp = train_test_split(small_data, test_size=0.3, shuffle=True)\n",
    "val, test = train_test_split(testtemp, test_size=0.5, shuffle=True)"
   ]
  },
  {
   "cell_type": "code",
   "execution_count": 3,
   "id": "9b912a6c",
   "metadata": {},
   "outputs": [
    {
     "data": {
      "text/html": [
       "<div>\n",
       "<style scoped>\n",
       "    .dataframe tbody tr th:only-of-type {\n",
       "        vertical-align: middle;\n",
       "    }\n",
       "\n",
       "    .dataframe tbody tr th {\n",
       "        vertical-align: top;\n",
       "    }\n",
       "\n",
       "    .dataframe thead th {\n",
       "        text-align: right;\n",
       "    }\n",
       "</style>\n",
       "<table border=\"1\" class=\"dataframe\">\n",
       "  <thead>\n",
       "    <tr style=\"text-align: right;\">\n",
       "      <th></th>\n",
       "      <th>Unnamed: 0</th>\n",
       "      <th>hindi</th>\n",
       "      <th>english</th>\n",
       "    </tr>\n",
       "  </thead>\n",
       "  <tbody>\n",
       "    <tr>\n",
       "      <th>671</th>\n",
       "      <td>671</td>\n",
       "      <td>डिफोल्टों को शामिल करें</td>\n",
       "      <td>Include defaults</td>\n",
       "    </tr>\n",
       "    <tr>\n",
       "      <th>137</th>\n",
       "      <td>137</td>\n",
       "      <td>टिप्पणीः परिवर्तन सत्रांत (लोगआउट) के बाद ही प...</td>\n",
       "      <td>Note: Changes only take effect after logout.</td>\n",
       "    </tr>\n",
       "    <tr>\n",
       "      <th>445</th>\n",
       "      <td>445</td>\n",
       "      <td>निरपेक्ष स्थिति</td>\n",
       "      <td>Absolute position</td>\n",
       "    </tr>\n",
       "    <tr>\n",
       "      <th>711</th>\n",
       "      <td>711</td>\n",
       "      <td>अभिभावक में% s सूची शिशु सूची सेमेल नहीं खाती</td>\n",
       "      <td>% s index in parent does not match child index</td>\n",
       "    </tr>\n",
       "    <tr>\n",
       "      <th>50</th>\n",
       "      <td>50</td>\n",
       "      <td>घटक</td>\n",
       "      <td>Co _ mponent</td>\n",
       "    </tr>\n",
       "    <tr>\n",
       "      <th>...</th>\n",
       "      <td>...</td>\n",
       "      <td>...</td>\n",
       "      <td>...</td>\n",
       "    </tr>\n",
       "    <tr>\n",
       "      <th>412</th>\n",
       "      <td>412</td>\n",
       "      <td>घटना मानिटर</td>\n",
       "      <td>Event monitor</td>\n",
       "    </tr>\n",
       "    <tr>\n",
       "      <th>934</th>\n",
       "      <td>934</td>\n",
       "      <td>% (rolename) s सूची% (num) d पंक्ति और स्तंभ स...</td>\n",
       "      <td>% (rolename) s index% (num) d does not match r...</td>\n",
       "    </tr>\n",
       "    <tr>\n",
       "      <th>923</th>\n",
       "      <td>923</td>\n",
       "      <td>मूलभूत जीयूआई अनुप्रयोग पहुंचनीयता का परीक्षण ...</td>\n",
       "      <td>Tests fundamental GUI application accessibility</td>\n",
       "    </tr>\n",
       "    <tr>\n",
       "      <th>787</th>\n",
       "      <td>787</td>\n",
       "      <td>क्षैतिज विभाजन</td>\n",
       "      <td>Horizontal split</td>\n",
       "    </tr>\n",
       "    <tr>\n",
       "      <th>845</th>\n",
       "      <td>845</td>\n",
       "      <td>संग्रह</td>\n",
       "      <td>Col _ lection</td>\n",
       "    </tr>\n",
       "  </tbody>\n",
       "</table>\n",
       "<p>700 rows × 3 columns</p>\n",
       "</div>"
      ],
      "text/plain": [
       "     Unnamed: 0                                              hindi  \\\n",
       "671         671                            डिफोल्टों को शामिल करें   \n",
       "137         137  टिप्पणीः परिवर्तन सत्रांत (लोगआउट) के बाद ही प...   \n",
       "445         445                                    निरपेक्ष स्थिति   \n",
       "711         711      अभिभावक में% s सूची शिशु सूची सेमेल नहीं खाती   \n",
       "50           50                                                घटक   \n",
       "..          ...                                                ...   \n",
       "412         412                                        घटना मानिटर   \n",
       "934         934  % (rolename) s सूची% (num) d पंक्ति और स्तंभ स...   \n",
       "923         923  मूलभूत जीयूआई अनुप्रयोग पहुंचनीयता का परीक्षण ...   \n",
       "787         787                                     क्षैतिज विभाजन   \n",
       "845         845                                             संग्रह   \n",
       "\n",
       "                                               english  \n",
       "671                                   Include defaults  \n",
       "137       Note: Changes only take effect after logout.  \n",
       "445                                  Absolute position  \n",
       "711     % s index in parent does not match child index  \n",
       "50                                        Co _ mponent  \n",
       "..                                                 ...  \n",
       "412                                      Event monitor  \n",
       "934  % (rolename) s index% (num) d does not match r...  \n",
       "923    Tests fundamental GUI application accessibility  \n",
       "787                                   Horizontal split  \n",
       "845                                      Col _ lection  \n",
       "\n",
       "[700 rows x 3 columns]"
      ]
     },
     "execution_count": 3,
     "metadata": {},
     "output_type": "execute_result"
    }
   ],
   "source": [
    "train"
   ]
  },
  {
   "cell_type": "code",
   "execution_count": 4,
   "id": "754f52e5",
   "metadata": {},
   "outputs": [],
   "source": [
    "def tokenize_hi(text):\n",
    "    return [tok.text for tok in spacy_hi.tokenizer(text)]\n",
    "\n",
    "def tokenize_eng(text):\n",
    "    return [tok.text for tok in spacy_eng.tokenizer(text)]"
   ]
  },
  {
   "cell_type": "code",
   "execution_count": 5,
   "id": "ddcea009",
   "metadata": {},
   "outputs": [],
   "source": [
    "def get_counter(tok_lang):\n",
    "    counter_lang = Counter()\n",
    "    for i in range(len(tok_lang)):\n",
    "        counter_lang.update(tok_lang[i]) \n",
    "    return counter_lang\n",
    "\n",
    "def build_vocab_with_spl(tok_lang):\n",
    "    counter_lang = get_counter(tok_lang)\n",
    "    sorted_by_freq_tuples_lang = sorted(counter_lang.items(), key=lambda x: x[1], reverse=True)\n",
    "    #text as a key,index as a value\n",
    "    ordered_dict_lang = OrderedDict(sorted_by_freq_tuples_lang)\n",
    "    voc_lang = vocab(ordered_dict_lang, min_freq=1)\n",
    "    spl_tok = ['<pad>', '<bos>', '<eos>', '<unk>']\n",
    "    spl_tok_idx = [0,1,2,3]\n",
    "    for (spl_tok,spl_tok_idx) in zip(spl_tok,spl_tok_idx):\n",
    "        voc_lang.insert_token(spl_tok, spl_tok_idx)\n",
    "    \n",
    "    default_index = voc_lang['<unk>']\n",
    "    voc_lang.set_default_index(default_index)\n",
    "    return voc_lang\n",
    "\n",
    "def get_vocabulary(data_lang,toknizer_lang):\n",
    "    tok_lang = [(toknizer_lang(sent)) for sent in data_lang]\n",
    "    voc_lang = build_vocab_with_spl(tok_lang)\n",
    "    return voc_lang"
   ]
  },
  {
   "cell_type": "code",
   "execution_count": 6,
   "id": "8d7c655e",
   "metadata": {},
   "outputs": [],
   "source": [
    "def get_sent_index_array(sent, voc_lang):\n",
    "    arr_lang = [voc_lang([word]) for word in sent]\n",
    "    return arr_lang, len(arr_lang)\n",
    "\n",
    "\n",
    "def get_seq_and_len_and_join_spl(data_lang, voc_lang, tokenize_lang):\n",
    "    list_seq_tensor_lang = []\n",
    "    len_seq_list_lang = []\n",
    "    for_max = []\n",
    "    for sent in data_lang:\n",
    "        arr, length = get_sent_index_array(tokenize_lang(sent), voc_lang)\n",
    "        list_seq_tensor_lang.append(torch.tensor(arr))\n",
    "        len_seq_list_lang.append(torch.tensor(length))\n",
    "        for_max.append(length)\n",
    "        ## as we will add 2 tokens to evry sentence\n",
    "        max_sequence = torch.LongTensor(for_max).max() + 2\n",
    "\n",
    "    BOS_IDX = voc_lang['<bos>']\n",
    "    EOS_IDX = voc_lang['<eos>']\n",
    "    print(len(list_seq_tensor_lang))\n",
    "    for i in range(len(list_seq_tensor_lang)):\n",
    "        templist = []\n",
    "        list_seq_tensor_lang[i] = torch.cat([torch.LongTensor([[BOS_IDX]]),\n",
    "                                             list_seq_tensor_lang[i], torch.LongTensor([[EOS_IDX]])], dim=0)\n",
    "\n",
    "    list_seq = list_seq_tensor_lang\n",
    "\n",
    "    return list_seq, len_seq_list_lang, max_sequence"
   ]
  },
  {
   "cell_type": "code",
   "execution_count": 7,
   "id": "e7f9af7a",
   "metadata": {},
   "outputs": [],
   "source": [
    "def pad_sequences(data_lang, voc_lang, tokenize_lang):\n",
    "    list_seq, len_seq_list_lang, max_sequence = get_seq_and_len_and_join_spl(data_lang, voc_lang, tokenize_lang)\n",
    "    flist_seq_tensors_lang = []\n",
    "\n",
    "    for (idx, (seq, len_seq)) in enumerate(zip(list_seq, len_seq_list_lang)):\n",
    "        seq_tensor = torch.zeros((1, max_sequence))\n",
    "        seq_tensor[0, :len_seq + 2] = seq.squeeze(1)\n",
    "        flist_seq_tensors_lang.append(seq_tensor)\n",
    "    return flist_seq_tensors_lang\n",
    "\n",
    "\n",
    "def make_variables_lang(data_lang, voc_lang, tokenize_lang):\n",
    "    return pad_sequences(data_lang, voc_lang, tokenize_lang)\n",
    "\n",
    "\n",
    "def createmydataset(data_lang1, data_lang2, voc_lang1, voc_lang2, tokenize_lang1, tokenize_lang2):\n",
    "    which_dataset = []\n",
    "    list_lang1_tensors = make_variables_lang(data_lang1, voc_lang1, tokenize_lang1)\n",
    "    list_lang2_tensors = make_variables_lang(data_lang1, voc_lang2, tokenize_lang2)\n",
    "\n",
    "    for (lang1_tensors, lang2_tensors) in zip(list_lang1_tensors, list_lang2_tensors):\n",
    "        which_dataset.append((lang1_tensors.squeeze(), lang2_tensors.squeeze()))\n",
    "        ## we have to squeeze so we will get 1 dimensional tensor\n",
    "    return which_dataset\n",
    "\n",
    "def get_loader(dataset,batch_size,num_workers):\n",
    "    dl = DataLoader(ds, batch_size=batch_size,\n",
    "                          shuffle=True, num_workers=num_workers, pin_memory=True)\n",
    "    return dl\n"
   ]
  },
  {
   "cell_type": "code",
   "execution_count": 8,
   "id": "833fade3",
   "metadata": {},
   "outputs": [
    {
     "name": "stdout",
     "output_type": "stream",
     "text": [
      "CPU times: user 2.09 s, sys: 308 ms, total: 2.39 s\n",
      "Wall time: 2.88 s\n"
     ]
    }
   ],
   "source": [
    "%%time\n",
    "\n",
    "batch_size = 32\n",
    "num_workers = 0\n",
    "\n",
    "hindi = train.iloc[:,1].values\n",
    "eng = train.iloc[:,2].values\n",
    "hindi_tokenizer = tokenize_hi\n",
    "eng_tokenizer = tokenize_eng\n",
    "\n",
    "spacy_eng = spacy.load(\"en_core_web_sm\")\n",
    "spacy_hi = spacy.load(\"xx_sent_ud_sm\") #multilang model\n"
   ]
  },
  {
   "cell_type": "code",
   "execution_count": 9,
   "id": "079583ce",
   "metadata": {},
   "outputs": [
    {
     "name": "stdout",
     "output_type": "stream",
     "text": [
      "CPU times: user 137 ms, sys: 134 ms, total: 272 ms\n",
      "Wall time: 1.13 s\n"
     ]
    }
   ],
   "source": [
    "%%time\n",
    "voc_hi = get_vocabulary(hindi, hindi_tokenizer)\n",
    "voc_eng = get_vocabulary(eng, eng_tokenizer)"
   ]
  },
  {
   "cell_type": "code",
   "execution_count": 10,
   "id": "c0d05357",
   "metadata": {},
   "outputs": [
    {
     "name": "stdout",
     "output_type": "stream",
     "text": [
      "396 432\n"
     ]
    }
   ],
   "source": [
    "print(len(voc_eng),len(voc_hi))"
   ]
  },
  {
   "cell_type": "code",
   "execution_count": 13,
   "id": "d2275bfd",
   "metadata": {
    "scrolled": true
   },
   "outputs": [
    {
     "name": "stdout",
     "output_type": "stream",
     "text": [
      "700\n",
      "700\n",
      "700\n",
      "torch.Size([30])\n",
      "<class 'tuple'>\n",
      "CPU times: user 419 ms, sys: 345 µs, total: 419 ms\n",
      "Wall time: 275 ms\n"
     ]
    }
   ],
   "source": [
    "%%time\n",
    "ds = createmydataset(eng,hindi,voc_eng,voc_hi,eng_tokenizer,hindi_tokenizer)\n",
    "\n",
    "print(len(ds))\n",
    "\n",
    "print(ds[56][0].shape)\n",
    "print(type(ds[76]))\n"
   ]
  },
  {
   "cell_type": "code",
   "execution_count": 14,
   "id": "9935818b",
   "metadata": {},
   "outputs": [
    {
     "name": "stdout",
     "output_type": "stream",
     "text": [
      "torch.Size([32, 30])\n",
      "torch.Size([32, 30])\n"
     ]
    }
   ],
   "source": [
    "train_dl = get_loader(ds,batch_size, num_workers)\n",
    "\n",
    "for x,y in train_dl:\n",
    "    print(y.shape)\n",
    "    print(x.shape)\n",
    "    break"
   ]
  },
  {
   "cell_type": "code",
   "execution_count": null,
   "id": "5120e508",
   "metadata": {},
   "outputs": [],
   "source": []
  }
 ],
 "metadata": {
  "kernelspec": {
   "display_name": "Python 3 (ipykernel)",
   "language": "python",
   "name": "python3"
  },
  "language_info": {
   "codemirror_mode": {
    "name": "ipython",
    "version": 3
   },
   "file_extension": ".py",
   "mimetype": "text/x-python",
   "name": "python",
   "nbconvert_exporter": "python",
   "pygments_lexer": "ipython3",
   "version": "3.8.10"
  }
 },
 "nbformat": 4,
 "nbformat_minor": 5
}
